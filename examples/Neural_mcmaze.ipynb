{
 "cells": [
  {
   "cell_type": "markdown",
   "metadata": {},
   "source": [
    "# Infering neural dynamics of motor cortex during dealyed reach task using a latent SDE\n",
    "\n",
    "In this example, we will show how to use the latentsde model to infer underlying neural dynamics from single trial spiking recordings of neurons in the dorsal premotor (PMd) and primary motor (M1) cortices.\n",
    "The data is available for download [here](https://dandiarchive.org/#/dandiset/000128).\n",
    "\n",
    "Dynamics in the motor cortext are known to be highly autonomus during simple stereotyped tasks, so it can be predictable given an \"informative\" initial condition even in the absence of stimulus information. "
   ]
  },
  {
   "cell_type": "code",
   "execution_count": 1,
   "metadata": {},
   "outputs": [],
   "source": [
    "using Pkg, Revise, Lux, LuxCUDA, Random, DifferentialEquations, SciMLSensitivity, ComponentArrays, Plots, MLUtils, OptimizationOptimisers, LinearAlgebra, Statistics, Printf, PyCall, Distributions, BenchmarkTools, Zygote\n",
    "using IterTools: ncycle\n",
    "using NeuroDynamics\n",
    "np = pyimport(\"numpy\");"
   ]
  },
  {
   "cell_type": "code",
   "execution_count": 2,
   "metadata": {},
   "outputs": [
    {
     "data": {
      "text/plain": [
       "(::LuxCPUDevice) (generic function with 5 methods)"
      ]
     },
     "metadata": {},
     "output_type": "display_data"
    }
   ],
   "source": [
    "device = \"cpu\"\n",
    "const dev = device == \"gpu\" ? gpu_device() : cpu_device()\n"
   ]
  },
  {
   "cell_type": "markdown",
   "metadata": {},
   "source": [
    "## 1. Loading the data and creating the dataloaders\n",
    "\n",
    "You can prepare the data yourself or use our preprocessed data staright away which is available [here](https://drive.google.com/file/d/1J9)"
   ]
  },
  {
   "cell_type": "code",
   "execution_count": 10,
   "metadata": {},
   "outputs": [],
   "source": [
    "file_path = \"/Users/ahmed.elgazzar/Code/Rhythms/Datasets/NLB/mc_maze.npy\"\n",
    "data = np.load(file_path, allow_pickle=true)\n",
    "Y = permutedims(get(data[1], \"spikes\") , [3, 2, 1]) |> Array{Float32}\n",
    "n_neurons , n_timepoints, n_trials = size(Y) \n",
    "ts = range(0, 5.0, length=n_timepoints) |> Array{Float32}\n",
    "Y_trainval , Y_test = splitobs(Y; at=0.8)\n",
    "Y_train , Y_val = splitobs(Y_trainval; at=0.8);\n",
    "train_loader = DataLoader((Y_train, Y_train), batchsize=32, shuffle=true)\n",
    "val_loader = DataLoader((Y_val, Y_val), batchsize=16, shuffle=true)\n",
    "test_loader = DataLoader((Y_test, Y_test), batchsize=16, shuffle=true);"
   ]
  },
  {
   "cell_type": "markdown",
   "metadata": {},
   "source": [
    "## 2. Defining the model \n",
    "- We will use a \"Recurrent_Encoder\" to infer the initial hidden state from a portion of the observations. \n",
    "- We will use a BlackBox (Neural) SDE with multiplicative noise to model the latent dynamics.\n",
    "- We will use a decoder with a Poisson likelihood to model the spike counts."
   ]
  },
  {
   "cell_type": "code",
   "execution_count": 11,
   "metadata": {},
   "outputs": [
    {
     "data": {
      "text/plain": [
       "\u001b[0mComponentVector{Float32}(obs_encoder = (linear_net = (weight = Float32[-0.013208281 -0.13043691 … 0.047136527 -0.027773382; 0.08593554 0.18602285 … 0.17315526 -0.072565444; … ; 0.05950757 0.109480105 … -0.057067692 -0.14258046; -0.0550279 0.04203606 … 0.09548095 0.15111029], bias = Float32[0.0; 0.0; … ; 0.0; 0.0;;]), init_net = (layer_1 = Float32[], layer_2 = (weight_i = Float32[0.18019353 0.0312034 … -0.14570116 0.00583763; 0.036612373 0.18714091 … -0.010550103 0.076989524; … ; -0.06679303 -0.030427333 … 0.27255848 -0.03527077; -0.2905901 0.08725259 … 0.115315 0.26563817], weight_h = Float32[0.08407057 0.011378075 … 0.067909285 0.104276665; 0.2180323 -0.09810061 … -0.26089182 0.055724923; … ; 0.25229597 -0.013836439 … 0.20262554 -0.23531385; 0.19067931 0.0679044 … 0.06011962 -0.04427377], bias = Float32[0.0; 0.0; … ; 0.0; 0.0;;]), layer_3 = (layer_1 = (weight = Float32[0.17457394 -0.30763113 … -0.35698465 -0.009226837; -0.018098265 -0.25435364 … -0.032326955 0.0062788557; … ; 0.3716612 0.117797956 … -0.19058616 -0.31705055; -0.10883515 0.026790097 … 0.2874861 -0.1108756], bias = Float32[0.0; 0.0; … ; 0.0; 0.0;;]), layer_2 = (weight = Float32[0.038932204 -0.3075695 … 0.3673972 0.3604315; 0.2419356 -0.023222674 … -0.0031604695 -0.34318957; … ; -0.13199817 0.24012566 … -0.02135732 0.017232902; 0.3151177 0.21558373 … -0.26761207 0.17861302], bias = Float32[0.0; 0.0; … ; 0.0; 0.0;;]))), context_net = (layer_1 = Float32[], layer_2 = (weight_i = Float32[0.20085733 0.101906925 … 0.042555925 -0.19691917; -0.22717182 0.23617329 … -0.06919008 -0.17791905; … ; -0.30148193 -0.10719041 … -0.15579954 -0.007190621; -0.024280911 0.23204665 … 0.18560344 0.13318348], weight_h = Float32[-0.26441893 0.21133348 … -0.12212601 -0.2849109; 0.2220217 -0.039124392 … 0.02312743 0.030339003; … ; -0.2473366 0.2100148 … 0.062620185 -0.052712116; -0.29778656 0.018278956 … 0.17399096 0.073702164], bias = Float32[0.0; 0.0; … ; 0.0; 0.0;;]), layer_3 = Float32[])), ctrl_encoder = Float32[], dynamics = (drift = (τ = Float32[1.0; 1.0; … ; 1.0; 1.0;;], J = Float32[0.48011366 0.42762592 … 0.52601796 0.05073027; -0.30839157 0.14219971 … -0.41626027 -0.3233049; … ; -0.061906446 0.48336044 … 0.5235552 -0.4377176; -0.21473897 -0.51360154 … -0.23972918 0.08530324], B = Matrix{Float32}(undef, 10, 0), b = Float32[1.0; 1.0; … ; 1.0; 1.0;;]), drift_aug = (layer_1 = (weight = Float32[-0.16916242 -0.13043436 … -0.110477805 -0.08050263; 0.16283163 0.039304372 … 0.21115617 -0.12405678; … ; -0.018516071 -0.1499359 … -0.13969907 -0.12739155; 0.16031334 -0.16103408 … -0.06835178 0.094447635], bias = Float32[0.0; 0.0; … ; 0.0; 0.0;;]), layer_2 = (weight = Float32[-0.09546975 -0.11908707 … 0.15156363 0.10941749; 0.24128379 0.07737759 … 0.21682397 -0.25363633; … ; -0.058156084 -0.020437121 … -0.028868468 -0.27858394; 0.021077383 -0.23346433 … 0.21119718 0.27077731], bias = Float32[0.0; 0.0; … ; 0.0; 0.0;;])), diffusion = (weight = Float32[0.0, 0.0, 0.0, 0.0, 0.0, 0.0, 0.0, 0.0, 0.0, 0.0], bias = Float32[0.0, 0.0, 0.0, 0.0, 0.0, 0.0, 0.0, 0.0, 0.0, 0.0])), obs_decoder = (layer_1 = (weight = Float32[-0.2616687 0.08147869 … 0.13392836 -0.23698261; 0.15419671 -0.2076117 … 0.14663726 -0.110662304; … ; 0.15558001 0.04204214 … 0.2769849 -0.26739562; -0.15888825 -0.24415937 … 0.08761383 0.08859795], bias = Float32[0.0; 0.0; … ; 0.0; 0.0;;]), layer_2 = (weight = Float32[-0.013007342 -0.023750005 … -0.15461366 -0.003519566; 0.052333534 -0.0989243 … -0.13245818 -0.031454068; … ; 0.011282202 0.110617936 … 0.08709733 -0.018608034; 0.11034953 -0.12417297 … -0.055470463 0.076203324], bias = Float32[0.0; 0.0; … ; 0.0; 0.0;;]), layer_3 = Float32[]), ctrl_decoder = Float32[])"
      ]
     },
     "metadata": {},
     "output_type": "display_data"
    }
   ],
   "source": [
    "hp = Dict(\"n_states\" => 10, \"hidden_dim\" => 64, \"context_dim\" => 32, \"t_init\" => Int(0.9 * n_timepoints))\n",
    "rng = Random.MersenneTwister(2)\n",
    "obs_encoder = Recurrent_Encoder(n_neurons, hp[\"n_states\"], hp[\"context_dim\"], 32, hp[\"t_init\"])\n",
    "drift =  ModernWilsonCowan(hp[\"n_states\"], 0)\n",
    "drift_aug = Chain(Dense(hp[\"n_states\"] + hp[\"context_dim\"], hp[\"hidden_dim\"], softplus), Dense(hp[\"hidden_dim\"], hp[\"n_states\"], tanh))\n",
    "diffusion = Scale(hp[\"n_states\"], sigmoid, init_weight=identity_init(gain=0.1))\n",
    "dynamics =  SDE(drift, drift_aug, diffusion, EulerHeun(), saveat=ts, dt=ts[2]-ts[1]) #ODE(drift, Tsit5)\n",
    "obs_decoder = MLP_Decoder(hp[\"n_states\"], n_neurons, 64, 1, \"Poisson\")   \n",
    "ctrl_encoder, ctrl_decoder = NoOpLayer(), NoOpLayer()\n",
    "model = LatentUDE(obs_encoder, ctrl_encoder, dynamics, obs_decoder, ctrl_decoder, dev)\n",
    "p, st = Lux.setup(rng, model) .|> dev\n",
    "p = p |> ComponentArray{Float32} "
   ]
  },
  {
   "cell_type": "markdown",
   "metadata": {},
   "source": [
    "## 3. Training the model \n",
    "\n",
    "We will train the model using the AdamW optimizer with a learning rate of 1e-3 for 200 epochs. \n"
   ]
  },
  {
   "cell_type": "code",
   "execution_count": 14,
   "metadata": {},
   "outputs": [
    {
     "data": {
      "text/plain": [
       "train (generic function with 1 method)"
      ]
     },
     "metadata": {},
     "output_type": "display_data"
    }
   ],
   "source": [
    "function train(model::LatentUDE, p, st, train_loader, val_loader, epochs, print_every)\n",
    "    epoch = 0\n",
    "    L = frange_cycle_linear(epochs+1, 0.5f0, 1.0f0, 1, 0.5)\n",
    "    losses = []\n",
    "    θ_best = nothing\n",
    "    best_metric = -Inf\n",
    "    @info \"Training ....\"\n",
    "\n",
    "    function loss(p, y, _)\n",
    "        y, ts_ = y |> dev, ts |> dev\n",
    "        ŷ, _, x̂₀, kl_path = model(y, nothing, ts_, p, st)\n",
    "        batch_size = size(y)[end]\n",
    "        recon_loss = - poisson_loglikelihood(ŷ, y)/batch_size\n",
    "        kl_init = kl_normal(x̂₀[1], x̂₀[2])\n",
    "        kl_path = mean(kl_path[end,:])\n",
    "        kl_loss =  kl_path  +  kl_init\n",
    "        l =  recon_loss + L[epoch+1]*kl_loss\n",
    "        return l, recon_loss, kl_loss\n",
    "    end\n",
    "\n",
    "\n",
    "    callback = function(opt_state, l, recon_loss , kl_loss)\n",
    "        θ = opt_state.u\n",
    "        push!(losses, l)\n",
    "        if length(losses) % length(train_loader) == 0\n",
    "            epoch += 1\n",
    "        end\n",
    "\n",
    "        if length(losses) % (length(train_loader)*print_every) == 0\n",
    "            @printf(\"Current epoch: %d, Loss: %.2f, PoissonLL: %d, KL: %.2f\\n\", epoch, losses[end], recon_loss, kl_loss)\n",
    "            y, _ = first(train_loader) \n",
    "            ŷ, _, _ = predict(model, y, nothing, ts, θ, st, 20)\n",
    "            ŷₘ = dropdims(mean(ŷ, dims=4), dims=4)\n",
    "            val_bps = bits_per_spike(ŷₘ, y)\n",
    "            @printf(\"Validation bits/spike: %.2f\\n\", val_bps)\n",
    "            if val_bps > best_metric\n",
    "                best_metric = val_bps\n",
    "                 θ_best = copy(θ)\n",
    "                @printf(\"Saving best model\")\n",
    "            end        \n",
    "        end\n",
    "        return false\n",
    "    end\n",
    "\n",
    "    adtype = Optimization.AutoZygote()\n",
    "    optf = OptimizationFunction((p, _ , y, y_) -> loss(p, y, y_), adtype)\n",
    "    optproblem = OptimizationProblem(optf, p)\n",
    "    result = Optimization.solve(optproblem, ADAMW(1e-3), ncycle(train_loader, epochs); callback)\n",
    "    return model, θ_best\n",
    "    \n",
    "end\n"
   ]
  },
  {
   "cell_type": "code",
   "execution_count": 15,
   "metadata": {},
   "outputs": [
    {
     "name": "stdout",
     "output_type": "stream",
     "text": [
      "Training ...\n",
      "Current epoch: 1, Loss: 5281.95, PoissonLL: 4659, KL: 1245.62\n",
      "Validation bits/spike: -40.59\n",
      "Saving best modelCurrent epoch: 2, Loss: 2857.40, PoissonLL: 2260, KL: 1024.93\n",
      "Validation bits/spike: -26.29\n",
      "Saving best modelCurrent epoch: 3, Loss: 2381.96, PoissonLL: 1959, KL: 634.75\n",
      "Validation bits/spike: -16.24\n",
      "Saving best modelCurrent epoch: 4, Loss: 2120.12, PoissonLL: 1808, KL: 416.47\n",
      "Validation bits/spike: -9.17\n",
      "Saving best modelCurrent epoch: 5, Loss: 2097.42, PoissonLL: 1844, KL: 303.54\n",
      "Validation bits/spike: -6.27\n",
      "Saving best modelCurrent epoch: 6, Loss: 2091.27, PoissonLL: 1849, KL: 264.07\n",
      "Validation bits/spike: -3.79\n",
      "Saving best modelCurrent epoch: 7, Loss: 2018.74, PoissonLL: 1808, KL: 211.07\n",
      "Validation bits/spike: -2.77\n",
      "Saving best modelCurrent epoch: 8, Loss: 1991.59, PoissonLL: 1802, KL: 189.87\n",
      "Validation bits/spike: -2.24\n",
      "Saving best modelCurrent epoch: 9, Loss: 1982.96, PoissonLL: 1813, KL: 169.79\n",
      "Validation bits/spike: -1.77\n",
      "Saving best modelCurrent epoch: 10, Loss: 1924.03, PoissonLL: 1774, KL: 149.81\n",
      "Validation bits/spike: -1.45\n",
      "Saving best modelCurrent epoch: 11, Loss: 1901.80, PoissonLL: 1768, KL: 133.93\n",
      "Validation bits/spike: -1.46\n"
     ]
    }
   ],
   "source": [
    "model, θ_best = train(model, p, st, train_loader, val_loader, 11, 1);"
   ]
  },
  {
   "cell_type": "code",
   "execution_count": null,
   "metadata": {},
   "outputs": [],
   "source": [
    "y, _ = first(train_loader)\n",
    "sample = 24\n",
    "ch = 4\n",
    "ŷ, _, x = predict(model, y, nothing, ts, θ_best, st, 20)\n",
    "ŷₘ = dropdims(mean(ŷ, dims=4), dims=4)\n",
    "ŷₛ = dropdims(std(ŷ, dims=4), dims=4)\n",
    "dist = Poisson.(ŷₘ)\n",
    "pred_spike = rand.(dist)\n",
    "xₘ = dropdims(mean(x, dims=4), dims=4)\n",
    "val_bps = bits_per_spike(ŷₘ, y)\n",
    "\n",
    "p1 = plot(transpose(y[ch:ch,:,sample]), label=\"True Spike\", lw=2)\n",
    "p2 = plot(transpose(pred_spike[ch:ch,:,sample]), label=\"Predicted Spike\", lw=2, color=\"red\")\n",
    "p3 = plot(transpose(ŷₘ[ch:ch,:,sample]), ribbon=transpose(ŷₛ[ch:ch,:,sample]), label=\"Infered rates\", lw=2, color=\"green\", yticks=false)\n",
    "\n",
    "plot(p1, p2,p3, layout=(3,1), size=(800, 400), legend=:topright)\n"
   ]
  }
 ],
 "metadata": {
  "kernelspec": {
   "display_name": "Julia 1.10.4",
   "language": "julia",
   "name": "julia-1.10"
  },
  "language_info": {
   "file_extension": ".jl",
   "mimetype": "application/julia",
   "name": "julia",
   "version": "1.10.4"
  }
 },
 "nbformat": 4,
 "nbformat_minor": 2
}
