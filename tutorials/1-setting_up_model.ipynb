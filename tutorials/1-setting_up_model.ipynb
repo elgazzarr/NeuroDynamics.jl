{
 "cells": [
  {
   "cell_type": "markdown",
   "metadata": {},
   "source": [
    "# Building a differentiable model\n",
    "\n",
    "In this tutorial, we will set up a differentiable FitzHugh-Nagumo model using the `NeuroDynamics` package and plot the phase portrait of the model before training.\n"
   ]
  },
  {
   "cell_type": "code",
   "execution_count": null,
   "metadata": {},
   "outputs": [],
   "source": [
    "using NeuroDynamics, Lux, Random, Plots, DifferentialEquations, ComponentArrays, Base.Iterators, CairoMakie"
   ]
  },
  {
   "cell_type": "markdown",
   "metadata": {},
   "source": [
    "We will create the model initialized using the default parameters. To change the parameters, we can pass the desired values to the `FitzHughNagumo` constructor.\n"
   ]
  },
  {
   "cell_type": "code",
   "execution_count": null,
   "metadata": {},
   "outputs": [],
   "source": [
    "rng = MersenneTwister(3)\n",
    "vector_field = FitzHughNagumo()\n",
    "model = ODE(vector_field, Tsit5())\n",
    "p, st = Lux.setup(rng, model) \n",
    "p = p |> ComponentArray"
   ]
  },
  {
   "cell_type": "markdown",
   "metadata": {},
   "source": [
    "Setup the initial conditions, inputs and the time span for the simulation. We will set up the input to nothing for now (an unforced system). We will then plot the solution. "
   ]
  },
  {
   "cell_type": "code",
   "execution_count": null,
   "metadata": {},
   "outputs": [],
   "source": [
    "ts = 0.0:0.1:10.0\n",
    "x0 = rand(2, 1)\n",
    "u = nothing\n",
    "sol = model(x0, u, ts, p, st)[1]\n",
    "plot(sol, idx=[1,2],  xlabel=\"Time\", title=\"FitzHugh-Nagumo\", label=[\"V\" \"W\"], linewidth=2)"
   ]
  },
  {
   "cell_type": "markdown",
   "metadata": {},
   "source": [
    "We can also plot the phase portrait of the model using the `phaseplot` function."
   ]
  },
  {
   "cell_type": "code",
   "execution_count": null,
   "metadata": {},
   "outputs": [],
   "source": [
    "v_ranges = -3.0:0.1:3.0\n",
    "w_ranges = -3.0:0.1:3.0\n",
    "x₀_ranges = collect(product(v_ranges, w_ranges))\n",
    "phaseplot(model, x₀_ranges, u, ts, p, st)"
   ]
  }
 ],
 "metadata": {
  "kernelspec": {
   "display_name": "Julia 1.10.4",
   "language": "julia",
   "name": "julia-1.10"
  },
  "language_info": {
   "file_extension": ".jl",
   "mimetype": "application/julia",
   "name": "julia",
   "version": "1.10.4"
  }
 },
 "nbformat": 4,
 "nbformat_minor": 2
}
